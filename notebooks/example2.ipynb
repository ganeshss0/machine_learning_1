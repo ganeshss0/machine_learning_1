{
 "cells": [
  {
   "cell_type": "markdown",
   "metadata": {},
   "source": [
    "Write a function to get training file path from artifact drictory\n"
   ]
  },
  {
   "cell_type": "code",
   "execution_count": 1,
   "metadata": {},
   "outputs": [],
   "source": [
    "from sample_ml.config.configuration import Configuration"
   ]
  },
  {
   "cell_type": "code",
   "execution_count": 2,
   "metadata": {},
   "outputs": [],
   "source": [
    "config = Configuration()"
   ]
  },
  {
   "cell_type": "code",
   "execution_count": 4,
   "metadata": {},
   "outputs": [],
   "source": [
    "data_ingestion = config.get_data_ingestion_config()"
   ]
  },
  {
   "cell_type": "code",
   "execution_count": 5,
   "metadata": {},
   "outputs": [
    {
     "data": {
      "text/plain": [
       "DataIngestionConfig(dataset_download_url='https://raw.githubusercontent.com/ageron/handson-ml/master/datasets/housing/housing.tgz', tgz_download_dir='/workspaces/machine_learning_project/artifact/data_ingestion/2023-12-04 08:31:19/tgz_data', raw_data_dir='/workspaces/machine_learning_project/artifact/data_ingestion/2023-12-04 08:31:19/raw_data', ingestion_train_dir='/workspaces/machine_learning_project/artifact/data_ingestion/2023-12-04 08:31:19/ingested_data/train', ingested_test_dir='/workspaces/machine_learning_project/artifact/data_ingestion/2023-12-04 08:31:19/ingested_data/test')"
      ]
     },
     "execution_count": 5,
     "metadata": {},
     "output_type": "execute_result"
    }
   ],
   "source": [
    "data_ingestion_artifact = os.path.join(config.config_info)"
   ]
  },
  {
   "cell_type": "code",
   "execution_count": 13,
   "metadata": {},
   "outputs": [],
   "source": [
    "import os\n",
    "data_ingestion_artifact = os.path.abspath(os.path.join(data_ingestion.ingestion_train_dir, os.pardir, os.pardir, os.pardir))"
   ]
  },
  {
   "cell_type": "code",
   "execution_count": 12,
   "metadata": {},
   "outputs": [],
   "source": [
    "import pandas as pd\n",
    "import os\n",
    "\n",
    "from sample_ml.constants import (\n",
    "    DATA_INGESTION_ARTIFACT_DIR, \n",
    "    INGESTION_DATA_DIR_KEY, \n",
    "    DATA_INGESTION_TRAIN_DIR_KEY, \n",
    "    DATA_INGESTION_TEST_DIR_KEY,\n",
    "    DATA_INGESTION_CONFIG_KEY,\n",
    "    DATA_INGESTION_DOWNLOAD_URL_KEY\n",
    "    )\n",
    "from sample_ml.config.configuration import Configuration\n",
    "\n",
    "config = Configuration()\n",
    "ingestion_config = config.config_info[DATA_INGESTION_CONFIG_KEY]\n",
    "# data_ingestion = config.get_data_ingestion_config()\n",
    "file_name = os.path.basename(ingestion_config[DATA_INGESTION_DOWNLOAD_URL_KEY])\n",
    "data_ingestion_artifact = os.path.join(config.training_pipeline_config.artifact_dir, DATA_INGESTION_ARTIFACT_DIR)\n",
    "\n",
    "\n",
    "def get_train_test_dataset(date_string: str = None, artifact_dir: str = data_ingestion_artifact):\n",
    "    '''A function that can give a list of tuples of datasets after matching the given date_string to each data ingestion folder.'''\n",
    "\n",
    "    folders = sorted(get_available_datasets()[0], reverse=True)\n",
    "    if date_string:\n",
    "        matching_folder = [folder for folder in folders if date_string in folder]\n",
    "    else:\n",
    "        matching_folder = [folders[0]]\n",
    "    \n",
    "    datasets = []\n",
    "    for folder in matching_folder:\n",
    "        path = os.path.join(artifact_dir, folder, ingestion_config[INGESTION_DATA_DIR_KEY])\n",
    "        if os.path.exists(path):\n",
    "            train_path = os.path.join(path, ingestion_config[DATA_INGESTION_TRAIN_DIR_KEY])\n",
    "            file_name = os.listdir(train_path)[0]\n",
    "            train_path = os.path.join(train_path, file_name)\n",
    "            test_path = os.path.join(path, ingestion_config[DATA_INGESTION_TEST_DIR_KEY], file_name)\n",
    "            datasets.append((pd.read_csv(train_path), pd.read_csv(test_path)))\n",
    "            \n",
    "    \n",
    "    return datasets\n",
    "\n",
    "\n",
    "\n",
    "def get_available_datasets(artifact_path = data_ingestion_artifact):\n",
    "    datasets = os.listdir(artifact_path)\n",
    "    return datasets, f'Count: {len(datasets)}'"
   ]
  },
  {
   "cell_type": "code",
   "execution_count": 26,
   "metadata": {},
   "outputs": [
    {
     "data": {
      "text/plain": [
       "DatetimeIndex(['2023-11-23 09:55:05'], dtype='datetime64[ns]', freq=None)"
      ]
     },
     "execution_count": 26,
     "metadata": {},
     "output_type": "execute_result"
    }
   ],
   "source": [
    "pd.DatetimeIndex(data=['2023-11-23 9:55:5'])"
   ]
  },
  {
   "cell_type": "code",
   "execution_count": 27,
   "metadata": {},
   "outputs": [
    {
     "data": {
      "text/plain": [
       "Timestamp('2023-01-01 00:00:00')"
      ]
     },
     "execution_count": 27,
     "metadata": {},
     "output_type": "execute_result"
    }
   ],
   "source": [
    "pd.to_datetime('2023')"
   ]
  },
  {
   "cell_type": "code",
   "execution_count": 9,
   "metadata": {},
   "outputs": [],
   "source": [
    "datasets = get_available_datasets()"
   ]
  },
  {
   "cell_type": "code",
   "execution_count": 10,
   "metadata": {},
   "outputs": [
    {
     "data": {
      "text/plain": [
       "(['2023-11-08 08:05:18',\n",
       "  '2023-11-08 08:03:13',\n",
       "  '2023-11-08 08:07:45',\n",
       "  '2023-11-08 08:05:54',\n",
       "  '2023-11-08 08:07:05',\n",
       "  '2023-11-18 09:45:06',\n",
       "  '2023-11-08 06:16:03',\n",
       "  '2023-11-08 06:11:35',\n",
       "  '2023-11-18 09:52:34',\n",
       "  '2023-11-18 09:37:34',\n",
       "  '2023-11-14 06:44:07',\n",
       "  '2023-12-04 05:36:22'],\n",
       " 'Count: 12')"
      ]
     },
     "execution_count": 10,
     "metadata": {},
     "output_type": "execute_result"
    }
   ],
   "source": [
    "datasets"
   ]
  },
  {
   "cell_type": "code",
   "execution_count": 13,
   "metadata": {},
   "outputs": [],
   "source": [
    "datasets = get_train_test_dataset('2023-11-')"
   ]
  },
  {
   "cell_type": "code",
   "execution_count": 15,
   "metadata": {},
   "outputs": [
    {
     "data": {
      "text/plain": [
       "5"
      ]
     },
     "execution_count": 15,
     "metadata": {},
     "output_type": "execute_result"
    }
   ],
   "source": [
    "datasets.__len__()"
   ]
  },
  {
   "cell_type": "code",
   "execution_count": 4,
   "metadata": {},
   "outputs": [
    {
     "data": {
      "text/plain": [
       "(['2023-11-08 08:05:18',\n",
       "  '2023-11-08 08:03:13',\n",
       "  '2023-11-08 08:07:45',\n",
       "  '2023-11-08 08:05:54',\n",
       "  '2023-11-08 08:07:05',\n",
       "  '2023-11-18 09:45:06',\n",
       "  '2023-11-08 06:16:03',\n",
       "  '2023-11-08 06:11:35',\n",
       "  '2023-11-18 09:52:34',\n",
       "  '2023-11-18 09:37:34',\n",
       "  '2023-11-14 06:44:07',\n",
       "  '2023-12-04 05:36:22'],\n",
       " 'Count: 12')"
      ]
     },
     "execution_count": 4,
     "metadata": {},
     "output_type": "execute_result"
    }
   ],
   "source": [
    "get_available_datasets()"
   ]
  },
  {
   "cell_type": "code",
   "execution_count": 1,
   "metadata": {},
   "outputs": [],
   "source": [
    "from sample_ml.config.configuration import Configuration"
   ]
  },
  {
   "cell_type": "code",
   "execution_count": 2,
   "metadata": {},
   "outputs": [],
   "source": [
    "config = Configuration()\n",
    "transform_config = config.get_data_transformation_config()"
   ]
  },
  {
   "cell_type": "code",
   "execution_count": 3,
   "metadata": {},
   "outputs": [
    {
     "data": {
      "text/plain": [
       "DataTransformationConfig(add_bedroom_per_room=True, transformed_train_dir='/workspaces/machine_learning_project/artifact/data_transformation/2023-12-04 11:37:02/transformed_data/train', transformed_test_dir='/workspaces/machine_learning_project/artifact/data_transformation/2023-12-04 11:37:02/transformed_data/test', preprocessed_object_file_path='/workspaces/machine_learning_project/artifact/data_transformation/2023-12-04 11:37:02/preprocessed/preprocessed.joblib')"
      ]
     },
     "execution_count": 3,
     "metadata": {},
     "output_type": "execute_result"
    }
   ],
   "source": [
    "transform_config"
   ]
  },
  {
   "cell_type": "code",
   "execution_count": null,
   "metadata": {},
   "outputs": [],
   "source": []
  }
 ],
 "metadata": {
  "kernelspec": {
   "display_name": "Python 3",
   "language": "python",
   "name": "python3"
  },
  "language_info": {
   "codemirror_mode": {
    "name": "ipython",
    "version": 3
   },
   "file_extension": ".py",
   "mimetype": "text/x-python",
   "name": "python",
   "nbconvert_exporter": "python",
   "pygments_lexer": "ipython3",
   "version": "3.10.8"
  }
 },
 "nbformat": 4,
 "nbformat_minor": 2
}
