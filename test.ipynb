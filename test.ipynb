{
 "cells": [
  {
   "cell_type": "code",
   "execution_count": 1,
   "metadata": {},
   "outputs": [],
   "source": [
    "import sample_ml"
   ]
  },
  {
   "cell_type": "code",
   "execution_count": 2,
   "metadata": {},
   "outputs": [],
   "source": [
    "from sample_ml.logger import logging"
   ]
  },
  {
   "cell_type": "code",
   "execution_count": 3,
   "metadata": {},
   "outputs": [],
   "source": [
    "logging.info('This is first log and it is very nice')\n",
    "logging.warning('this is  a siple warning')"
   ]
  },
  {
   "cell_type": "code",
   "execution_count": 1,
   "metadata": {},
   "outputs": [],
   "source": [
    "from sample_ml.exception import SampleMLException"
   ]
  },
  {
   "cell_type": "code",
   "execution_count": 4,
   "metadata": {},
   "outputs": [
    {
     "name": "stdout",
     "output_type": "stream",
     "text": [
      "Error occured in script: [/tmp/ipykernel_51839/755861973.py at line number 7] error message: [This is nice error]\n"
     ]
    }
   ],
   "source": [
    "import os, sys\n",
    "\n",
    "try:\n",
    "    raise Exception('This is nice error')\n",
    "\n",
    "except Exception as e:\n",
    "    customex = SampleMLException(e, sys)\n",
    "    print(customex.error_message)"
   ]
  },
  {
   "cell_type": "code",
   "execution_count": 5,
   "metadata": {},
   "outputs": [
    {
     "name": "stdout",
     "output_type": "stream",
     "text": [
      "Error occured in script: [/tmp/ipykernel_51839/755861973.py at line number 7] error message: [This is nice error]\n"
     ]
    }
   ],
   "source": [
    "print(customex)"
   ]
  },
  {
   "cell_type": "code",
   "execution_count": 6,
   "metadata": {},
   "outputs": [
    {
     "data": {
      "text/plain": [
       "SampleMLException"
      ]
     },
     "execution_count": 6,
     "metadata": {},
     "output_type": "execute_result"
    }
   ],
   "source": [
    "customex"
   ]
  },
  {
   "cell_type": "code",
   "execution_count": 1,
   "metadata": {},
   "outputs": [],
   "source": [
    "from sample_ml.utils.utility import read_yaml\n",
    "from sample_ml.constants import CONFIG_FILE_PATH\n",
    "\n",
    "config = read_yaml(CONFIG_FILE_PATH)\n",
    "\n"
   ]
  },
  {
   "cell_type": "code",
   "execution_count": 3,
   "metadata": {},
   "outputs": [
    {
     "data": {
      "text/plain": [
       "{'pipeline_name': 'housing', 'artifact_dir': 'artifact'}"
      ]
     },
     "execution_count": 3,
     "metadata": {},
     "output_type": "execute_result"
    }
   ],
   "source": [
    "config['training_pipeline_config']"
   ]
  },
  {
   "cell_type": "code",
   "execution_count": 3,
   "metadata": {},
   "outputs": [],
   "source": [
    "from sample_ml.config.configuration import Configuration"
   ]
  },
  {
   "cell_type": "code",
   "execution_count": 7,
   "metadata": {},
   "outputs": [],
   "source": [
    "config = "
   ]
  },
  {
   "cell_type": "code",
   "execution_count": 6,
   "metadata": {},
   "outputs": [
    {
     "ename": "TypeError",
     "evalue": "TrainingPipelineConfig.__new__() missing 1 required positional argument: 'pipeline_name'",
     "output_type": "error",
     "traceback": [
      "\u001b[0;31m---------------------------------------------------------------------------\u001b[0m",
      "\u001b[0;31mTypeError\u001b[0m                                 Traceback (most recent call last)",
      "\u001b[1;32m/workspaces/machine_learning_project/test.ipynb Cell 12\u001b[0m line \u001b[0;36m1\n\u001b[0;32m----> <a href='vscode-notebook-cell://codespaces%2Bubiquitous-space-sniffle-rvj559j5gjrh559/workspaces/machine_learning_project/test.ipynb#X14sdnNjb2RlLXJlbW90ZQ%3D%3D?line=0'>1</a>\u001b[0m a \u001b[39m=\u001b[39m TrainingPipelineConfig(artifact_dir\u001b[39m=\u001b[39;49m\u001b[39m'\u001b[39;49m\u001b[39mthis is nice and \u001b[39;49m\u001b[39m'\u001b[39;49m)\n",
      "\u001b[0;31mTypeError\u001b[0m: TrainingPipelineConfig.__new__() missing 1 required positional argument: 'pipeline_name'"
     ]
    }
   ],
   "source": [
    "a = TrainingPipelineConfig(artifact_dir='this is nice and ')"
   ]
  },
  {
   "cell_type": "code",
   "execution_count": 1,
   "metadata": {},
   "outputs": [],
   "source": [
    "from sample_ml.config.configuration import Configuration"
   ]
  },
  {
   "cell_type": "code",
   "execution_count": 2,
   "metadata": {},
   "outputs": [
    {
     "ename": "SampleMLException",
     "evalue": "\n        Error occured in script: \n        [/workspaces/machine_learning_project/sample_ml/config/configuration.py] at \n        line number 35] \n        error message: [DataIngestionConfig.__new__() got an unexpected keyword argument 'ingested_dir']\n        ",
     "output_type": "error",
     "traceback": [
      "\u001b[0;31m---------------------------------------------------------------------------\u001b[0m",
      "\u001b[0;31mTypeError\u001b[0m                                 Traceback (most recent call last)",
      "File \u001b[0;32m/workspaces/machine_learning_project/sample_ml/config/configuration.py:33\u001b[0m, in \u001b[0;36mConfiguration.get_data_ingestion_config\u001b[0;34m(self)\u001b[0m\n\u001b[1;32m     32\u001b[0m     data_ingestion_config \u001b[39m=\u001b[39m \u001b[39mself\u001b[39m\u001b[39m.\u001b[39mconfig_info[DATA_INGESTION_CONFIG_KEY]\n\u001b[0;32m---> 33\u001b[0m     \u001b[39mreturn\u001b[39;00m DataIngestionConfig(\u001b[39m*\u001b[39;49m\u001b[39m*\u001b[39;49mdata_ingestion_config)\n\u001b[1;32m     34\u001b[0m \u001b[39mexcept\u001b[39;00m \u001b[39mException\u001b[39;00m \u001b[39mas\u001b[39;00m e:\n",
      "\u001b[0;31mTypeError\u001b[0m: DataIngestionConfig.__new__() got an unexpected keyword argument 'ingested_dir'",
      "\nThe above exception was the direct cause of the following exception:\n",
      "\u001b[0;31mSampleMLException\u001b[0m                         Traceback (most recent call last)",
      "\u001b[1;32m/workspaces/machine_learning_project/test.ipynb Cell 14\u001b[0m line \u001b[0;36m2\n\u001b[1;32m      <a href='vscode-notebook-cell://codespaces%2Bubiquitous-space-sniffle-rvj559j5gjrh559/workspaces/machine_learning_project/test.ipynb#X16sdnNjb2RlLXJlbW90ZQ%3D%3D?line=0'>1</a>\u001b[0m config \u001b[39m=\u001b[39m Configuration()\n\u001b[0;32m----> <a href='vscode-notebook-cell://codespaces%2Bubiquitous-space-sniffle-rvj559j5gjrh559/workspaces/machine_learning_project/test.ipynb#X16sdnNjb2RlLXJlbW90ZQ%3D%3D?line=1'>2</a>\u001b[0m config\u001b[39m.\u001b[39;49mget_data_ingestion_config()\n",
      "File \u001b[0;32m/workspaces/machine_learning_project/sample_ml/config/configuration.py:35\u001b[0m, in \u001b[0;36mConfiguration.get_data_ingestion_config\u001b[0;34m(self)\u001b[0m\n\u001b[1;32m     33\u001b[0m     \u001b[39mreturn\u001b[39;00m DataIngestionConfig(\u001b[39m*\u001b[39m\u001b[39m*\u001b[39mdata_ingestion_config)\n\u001b[1;32m     34\u001b[0m \u001b[39mexcept\u001b[39;00m \u001b[39mException\u001b[39;00m \u001b[39mas\u001b[39;00m e:\n\u001b[0;32m---> 35\u001b[0m     \u001b[39mraise\u001b[39;00m SampleMLException(e, sys) \u001b[39mfrom\u001b[39;00m \u001b[39me\u001b[39;00m\n",
      "\u001b[0;31mSampleMLException\u001b[0m: \n        Error occured in script: \n        [/workspaces/machine_learning_project/sample_ml/config/configuration.py] at \n        line number 35] \n        error message: [DataIngestionConfig.__new__() got an unexpected keyword argument 'ingested_dir']\n        "
     ]
    }
   ],
   "source": [
    "config = Configuration()\n",
    "config.get_data_ingestion_config()"
   ]
  },
  {
   "cell_type": "code",
   "execution_count": 11,
   "metadata": {},
   "outputs": [],
   "source": [
    "a = config.get_data_ingestion_config()"
   ]
  },
  {
   "cell_type": "code",
   "execution_count": 12,
   "metadata": {},
   "outputs": [],
   "source": [
    "dataset_download_url = 'https://raw.githubusercontent.com/ageron/handson-ml/master/datasets/housing/housing.tgz'\n",
    "\n",
    "from urllib3 import "
   ]
  }
 ],
 "metadata": {
  "kernelspec": {
   "display_name": "Python 3",
   "language": "python",
   "name": "python3"
  },
  "language_info": {
   "codemirror_mode": {
    "name": "ipython",
    "version": 3
   },
   "file_extension": ".py",
   "mimetype": "text/x-python",
   "name": "python",
   "nbconvert_exporter": "python",
   "pygments_lexer": "ipython3",
   "version": "3.10.8"
  }
 },
 "nbformat": 4,
 "nbformat_minor": 2
}
